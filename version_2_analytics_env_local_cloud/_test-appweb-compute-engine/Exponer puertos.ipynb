{
 "cells": [
  {
   "cell_type": "code",
   "execution_count": null,
   "id": "97958422",
   "metadata": {},
   "outputs": [],
   "source": [
    "import numpy as np"
   ]
  },
  {
   "cell_type": "code",
   "execution_count": null,
   "id": "0cf1ccdc",
   "metadata": {},
   "outputs": [],
   "source": [
    "### PRUEBA DE QUÉ VA PASANDO AL ACTUALIZAR MI IMAGE"
   ]
  },
  {
   "cell_type": "code",
   "execution_count": null,
   "id": "30db214b",
   "metadata": {},
   "outputs": [],
   "source": []
  },
  {
   "cell_type": "markdown",
   "id": "0e01b6d6",
   "metadata": {},
   "source": [
    "# Se necesita exponer el puerto 8888 para tratar que se pueda consultar la app en compute engine"
   ]
  },
  {
   "cell_type": "code",
   "execution_count": null,
   "id": "3a62006a",
   "metadata": {},
   "outputs": [],
   "source": []
  },
  {
   "cell_type": "code",
   "execution_count": null,
   "id": "0f9c200a",
   "metadata": {},
   "outputs": [],
   "source": []
  },
  {
   "cell_type": "markdown",
   "id": "9dfa3467",
   "metadata": {},
   "source": [
    "### 4. Crea una regla de firewall para permitir el tráfico hacia tu instancia de la manera siguiente:\n",
    "PUERTO 8888"
   ]
  },
  {
   "cell_type": "code",
   "execution_count": null,
   "id": "45707520",
   "metadata": {},
   "outputs": [],
   "source": [
    "### login gcloud\n",
    "!gcloud auth login"
   ]
  },
  {
   "cell_type": "code",
   "execution_count": null,
   "id": "b607d124",
   "metadata": {},
   "outputs": [],
   "source": [
    "!gcloud compute firewall-rules create default-allow-http-8888 \\\n",
    "    --allow tcp:8888 \\\n",
    "    --source-ranges 0.0.0.0/0 \\\n",
    "    --target-tags http-server \\\n",
    "    --description \"Allow port 8888 access to http-server to analytics environment\""
   ]
  },
  {
   "cell_type": "code",
   "execution_count": null,
   "id": "df4ef43c",
   "metadata": {},
   "outputs": [],
   "source": []
  }
 ],
 "metadata": {
  "kernelspec": {
   "display_name": "Python 3 (ipykernel)",
   "language": "python",
   "name": "python3"
  },
  "language_info": {
   "codemirror_mode": {
    "name": "ipython",
    "version": 3
   },
   "file_extension": ".py",
   "mimetype": "text/x-python",
   "name": "python",
   "nbconvert_exporter": "python",
   "pygments_lexer": "ipython3",
   "version": "3.10.14"
  }
 },
 "nbformat": 4,
 "nbformat_minor": 5
}
