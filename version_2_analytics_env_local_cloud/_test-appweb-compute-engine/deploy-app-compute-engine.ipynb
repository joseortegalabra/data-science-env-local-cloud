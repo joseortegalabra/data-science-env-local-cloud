{
 "cells": [
  {
   "cell_type": "markdown",
   "id": "197a1819-e5cc-4bc8-93b4-242cf0117235",
   "metadata": {},
   "source": [
    "# Tutorial\n",
    "Tutorial how to deploy an app since compute engine GCP\n",
    "\n",
    "This is the oficial tutorial of GCP:\n",
    "https://cloud.google.com/python/docs/getting-started/getting-started-on-compute-engine?hl=es-419\n",
    "\n",
    "In the tutorial are executed a list of command in console but in this example a jupyter notebook is used to execute the commands"
   ]
  },
  {
   "cell_type": "code",
   "execution_count": null,
   "id": "1ee2c3be-9150-4f36-8abd-6b41307dfe24",
   "metadata": {},
   "outputs": [],
   "source": [
    "import numpy as np"
   ]
  },
  {
   "cell_type": "markdown",
   "id": "3110cbbd-33f4-4f07-90dd-ad053368512b",
   "metadata": {},
   "source": [
    "### 0) Project"
   ]
  },
  {
   "cell_type": "code",
   "execution_count": null,
   "id": "d41c8900-1298-42c9-b87d-641f02a3a2f8",
   "metadata": {},
   "outputs": [],
   "source": [
    "PROJECT_GCP = 'input-project-gcp...'"
   ]
  },
  {
   "cell_type": "code",
   "execution_count": null,
   "id": "8d707bfd-2a38-42e6-bdc9-6d3c5904d9a4",
   "metadata": {},
   "outputs": [],
   "source": []
  },
  {
   "cell_type": "code",
   "execution_count": null,
   "id": "f4336248-c920-426d-a6b2-568506b7b176",
   "metadata": {},
   "outputs": [],
   "source": []
  },
  {
   "cell_type": "markdown",
   "id": "68eff246-d749-46bd-b5cc-7062dd101bd7",
   "metadata": {},
   "source": [
    "### 1) En Cloud Shell, configura la CLI de gcloud para usar el proyecto de Google Cloud nuevo de la siguiente manera"
   ]
  },
  {
   "cell_type": "code",
   "execution_count": null,
   "id": "c42aab1e-abf5-4d63-a3e7-a86ee0bb3b4c",
   "metadata": {},
   "outputs": [],
   "source": [
    "# Configure gcloud for your project\n",
    "!gcloud config set project $PROJECT_GCP"
   ]
  },
  {
   "cell_type": "code",
   "execution_count": null,
   "id": "04a1f66d-cade-4fd2-b738-c5e32bec406c",
   "metadata": {},
   "outputs": [],
   "source": []
  },
  {
   "cell_type": "markdown",
   "id": "3481f5d2-129c-4d88-b45b-27cd0b67180a",
   "metadata": {},
   "source": [
    "### 2) Usa una secuencia de comandos de inicio para inicializar una instancia\r\n",
    "Necesitas una forma de indicar a tu instancia que descargue y ejecute tu código. Una instancia puede tener una secuencia de comandos de inicio que se ejecuta cada vez que se inicia o reinicia la instancia."
   ]
  },
  {
   "cell_type": "code",
   "execution_count": null,
   "id": "4bc7a173-908f-4734-ab70-407eb7242bb6",
   "metadata": {},
   "outputs": [],
   "source": []
  },
  {
   "cell_type": "code",
   "execution_count": null,
   "id": "5b5a94b8-caa5-4d29-869c-daeb6e5b40fe",
   "metadata": {},
   "outputs": [],
   "source": [
    "# Install or update needed software\n",
    "apt-get update\n",
    "apt-get install -yq git supervisor python python-pip python3-distutils\n",
    "pip install --upgrade pip virtualenv\n",
    "\n",
    "# Fetch source code\n",
    "export HOME=/root\n",
    "git clone https://github.com/GoogleCloudPlatform/getting-started-python.git /opt/app\n",
    "\n",
    "# Install Cloud Ops Agent\n",
    "sudo bash /opt/app/gce/add-google-cloud-ops-agent-repo.sh --also-install\n",
    "\n",
    "# Account to own server process\n",
    "useradd -m -d /home/pythonapp pythonapp\n",
    "\n",
    "# Python environment setup\n",
    "virtualenv -p python3 /opt/app/gce/env\n",
    "/bin/bash -c \"source /opt/app/gce/env/bin/activate\"\n",
    "/opt/app/gce/env/bin/pip install -r /opt/app/gce/requirements.txt\n",
    "\n",
    "# Set ownership to newly created account\n",
    "chown -R pythonapp:pythonapp /opt/app\n",
    "\n",
    "# Put supervisor configuration in proper place\n",
    "cp /opt/app/gce/python-app.conf /etc/supervisor/conf.d/python-app.conf\n",
    "\n",
    "# Start service via supervisorctl\n",
    "supervisorctl reread\n",
    "supervisorctl update"
   ]
  },
  {
   "cell_type": "markdown",
   "id": "30be1557-bce5-4983-ba40-59e1145a2b90",
   "metadata": {},
   "source": [
    "La secuencia de comandos de inicio realiza las siguientes tareas:\r\n",
    "\r\n",
    "Instala Python 3 y PIP.\r\n",
    "\r\n",
    "Instala el agente de Cloud Logging. Este agente recopila registros de syslog automáticamente.\r\n",
    "\r\n",
    "Instala Supervisor para ejecutar la app como un daemon.\r\n",
    "\r\n",
    "Clona el código fuente de la app desde Cloud Source Repositories y, luego, instala dependencias.\r\n",
    "\r\n",
    "Configura Supervisor para ejecutar la app. Supervisor se asegura de que la app se reinicie si se cierra de forma inesperada o si la cierra un administrador o algún otro proceso. También envía stdout y stderr de la app a syslog para que los recopile el agente de Logging."
   ]
  },
  {
   "cell_type": "code",
   "execution_count": null,
   "id": "14600e8e-ffcc-4b18-a6f8-02fa25c72e2b",
   "metadata": {},
   "outputs": [],
   "source": []
  },
  {
   "cell_type": "markdown",
   "id": "4776f5e3-b006-4f0d-af5f-5eb6fd96cbca",
   "metadata": {},
   "source": [
    "### 3. Crea y configura una instancia de Compute Engine"
   ]
  },
  {
   "cell_type": "code",
   "execution_count": null,
   "id": "1167d80b-1e68-4e18-9718-46b5e067adc3",
   "metadata": {},
   "outputs": [],
   "source": [
    "MY_INSTANCE_NAME=\"my-app-instance\"\n",
    "ZONE=\"us-central1-a\"\n",
    "\n",
    "!gcloud compute instances create $MY_INSTANCE_NAME \\\n",
    "    --image-family=debian-10 \\\n",
    "    --image-project=debian-cloud \\\n",
    "    --machine-type=g1-small \\\n",
    "    --scopes userinfo-email,cloud-platform \\\n",
    "    --metadata-from-file startup-script=startup-script.sh \\\n",
    "    --zone $ZONE \\\n",
    "    --tags http-server"
   ]
  },
  {
   "cell_type": "code",
   "execution_count": null,
   "id": "fcfaf9e1-f140-473a-b5d5-3b02b6d1832f",
   "metadata": {},
   "outputs": [],
   "source": []
  },
  {
   "cell_type": "markdown",
   "id": "38293f26-7699-474d-8df1-0d1b7c748b9d",
   "metadata": {},
   "source": [
    "#### Ahora está creada la instancia, pero aún no se puede ver desde el navegador"
   ]
  },
  {
   "cell_type": "code",
   "execution_count": null,
   "id": "c758a815-8957-4813-b3f9-5e6dacf3b71c",
   "metadata": {},
   "outputs": [],
   "source": []
  },
  {
   "cell_type": "markdown",
   "id": "43146f5d-d9b5-4ee4-9517-6087465e548a",
   "metadata": {},
   "source": [
    "### 4. Crea una regla de firewall para permitir el tráfico hacia tu instancia de la manera siguiente:"
   ]
  },
  {
   "cell_type": "code",
   "execution_count": null,
   "id": "e8eb0565-d617-4d32-96b1-f52c59846e07",
   "metadata": {},
   "outputs": [],
   "source": [
    "!gcloud compute firewall-rules create default-allow-http-8080 \\\n",
    "    --allow tcp:8080 \\\n",
    "    --source-ranges 0.0.0.0/0 \\\n",
    "    --target-tags http-server \\\n",
    "    --description \"Allow port 8080 access to http-server\""
   ]
  },
  {
   "cell_type": "code",
   "execution_count": null,
   "id": "082b53d7-bb60-42bb-a303-319bdd65e867",
   "metadata": {},
   "outputs": [],
   "source": [
    "##### PORT FOR ANALYTICS ENVIRONEMNT\n",
    "!gcloud compute firewall-rules create default-allow-http-8888 \\\n",
    "    --allow tcp:8888 \\\n",
    "    --source-ranges 0.0.0.0/0 \\\n",
    "    --target-tags http-server \\\n",
    "    --description \"Allow port 8080 access to http-server\""
   ]
  },
  {
   "cell_type": "code",
   "execution_count": null,
   "id": "af3b9eea-8e9a-471d-be8c-051734f966a8",
   "metadata": {},
   "outputs": [],
   "source": []
  },
  {
   "cell_type": "code",
   "execution_count": null,
   "id": "1608bdf4-13c4-482e-bb84-b68fd3011709",
   "metadata": {},
   "outputs": [],
   "source": []
  },
  {
   "cell_type": "code",
   "execution_count": null,
   "id": "9f9e254d-a05f-4f6b-b5a3-a9819cf14deb",
   "metadata": {},
   "outputs": [],
   "source": []
  },
  {
   "cell_type": "markdown",
   "id": "efaf5bb2-616e-4972-b761-c0157693c61c",
   "metadata": {},
   "source": [
    "### 5. Obtén la dirección IP externa de la instancia"
   ]
  },
  {
   "cell_type": "code",
   "execution_count": 1,
   "id": "f35ffbb3-cd5b-4b67-a346-b5f8cfe80092",
   "metadata": {},
   "outputs": [],
   "source": [
    "# !gcloud compute instances list"
   ]
  },
  {
   "cell_type": "code",
   "execution_count": 2,
   "id": "e83a1543-9560-4f92-864b-aaef2d8c1210",
   "metadata": {},
   "outputs": [
    {
     "data": {
      "text/plain": [
       "1"
      ]
     },
     "execution_count": 2,
     "metadata": {},
     "output_type": "execute_result"
    }
   ],
   "source": [
    "a=1\n",
    "a"
   ]
  },
  {
   "cell_type": "markdown",
   "id": "b85fa356-cdc5-4542-87f0-5e4d3c29291c",
   "metadata": {},
   "source": [
    "### 6. See the app\n",
    "\n",
    "Ver desde el link\n",
    "http://YOUR_INSTANCE_IP:8080\n",
    "\n",
    "Reemplaza YOUR_INSTANCE_IP por la dirección IP externa de la instancia."
   ]
  },
  {
   "cell_type": "code",
   "execution_count": null,
   "id": "59bc964f-8786-497c-b8d7-9fb049f5fbb0",
   "metadata": {},
   "outputs": [],
   "source": [
    "http://YOUR_INSTANCE_IP:8080"
   ]
  },
  {
   "cell_type": "code",
   "execution_count": null,
   "id": "ed862c70-bd04-4a6d-8744-09e29e2c8003",
   "metadata": {},
   "outputs": [],
   "source": []
  },
  {
   "cell_type": "code",
   "execution_count": null,
   "id": "968c1ae5-723e-4367-8c93-1f74c546e796",
   "metadata": {},
   "outputs": [],
   "source": []
  },
  {
   "cell_type": "code",
   "execution_count": null,
   "id": "ff4c5d0f-e30a-4050-9d6c-ce271187e69e",
   "metadata": {},
   "outputs": [],
   "source": []
  },
  {
   "cell_type": "code",
   "execution_count": null,
   "id": "66bb8927-3673-4ced-9dd7-390d97942744",
   "metadata": {},
   "outputs": [],
   "source": []
  },
  {
   "cell_type": "code",
   "execution_count": null,
   "id": "62c05065-6cc2-4313-b82c-870b8d871bc9",
   "metadata": {},
   "outputs": [],
   "source": []
  },
  {
   "cell_type": "code",
   "execution_count": null,
   "id": "6cc3b7d9-8971-4094-8942-c9ac4f2f8870",
   "metadata": {},
   "outputs": [],
   "source": []
  },
  {
   "cell_type": "markdown",
   "id": "7d4b46b6-9390-494f-badc-6e0d66731352",
   "metadata": {},
   "source": [
    "Extra habilitar puerto streamlit"
   ]
  },
  {
   "cell_type": "code",
   "execution_count": null,
   "id": "907d00ab-52aa-4af4-ae14-c57fb5ad938d",
   "metadata": {},
   "outputs": [],
   "source": [
    "!gcloud compute firewall-rules create default-allow-http-8501 \\\n",
    "    --allow tcp:8501 \\\n",
    "    --source-ranges 0.0.0.0/0 \\\n",
    "    --target-tags http-server \\\n",
    "    --description \"Allow port 8501 access to http-server streamlit\""
   ]
  },
  {
   "cell_type": "code",
   "execution_count": null,
   "id": "8c278587-0723-44e6-98da-b2af43afb74a",
   "metadata": {},
   "outputs": [],
   "source": []
  },
  {
   "cell_type": "code",
   "execution_count": null,
   "id": "e75a5cdf-330f-45fc-b504-2a2266808337",
   "metadata": {},
   "outputs": [],
   "source": []
  },
  {
   "cell_type": "code",
   "execution_count": null,
   "id": "e7361ff0-f0f1-4153-b464-20df230b957f",
   "metadata": {},
   "outputs": [],
   "source": []
  },
  {
   "cell_type": "code",
   "execution_count": null,
   "id": "8dc040cf-eb8e-4ee5-97ce-c19c882915e2",
   "metadata": {},
   "outputs": [],
   "source": []
  },
  {
   "cell_type": "code",
   "execution_count": null,
   "id": "dd79da6b-ce26-4d32-a178-ac6106a0eba3",
   "metadata": {},
   "outputs": [],
   "source": []
  },
  {
   "cell_type": "markdown",
   "id": "4f45a426-46d4-45a7-9145-7ecc072567c0",
   "metadata": {},
   "source": [
    "La secuencia de comandos de inicio realiza las siguientes tareas:\r\n",
    "\r\n",
    "Instala Python 3 y PIP.\r\n",
    "\r\n",
    "Instala el agente de Cloud Logging. Este agente recopila registros de syslog automáticamente.\r\n",
    "\r\n",
    "Instala Supervisor para ejecutar la app como un daemon.\r\n",
    "\r\n",
    "Clona el código fuente de la app desde Cloud Source Repositories y, luego, instala dependencias.\r\n",
    "\r\n",
    "Configura Supervisor para ejecutar la app. Supervisor se asegura de que la app se reinicie si se cierra de forma inesperada o si la cierra un administrador o algún otro proceso. También envía stdout y stderr de la app a syslog para que los recopile el agente de Logging."
   ]
  },
  {
   "cell_type": "code",
   "execution_count": null,
   "id": "9804db19-4f1a-4fe7-9d52-5d94eeed6d37",
   "metadata": {},
   "outputs": [],
   "source": []
  }
 ],
 "metadata": {
  "kernelspec": {
   "display_name": "Python 3 (ipykernel)",
   "language": "python",
   "name": "python3"
  },
  "language_info": {
   "codemirror_mode": {
    "name": "ipython",
    "version": 3
   },
   "file_extension": ".py",
   "mimetype": "text/x-python",
   "name": "python",
   "nbconvert_exporter": "python",
   "pygments_lexer": "ipython3",
   "version": "3.10.14"
  }
 },
 "nbformat": 4,
 "nbformat_minor": 5
}
