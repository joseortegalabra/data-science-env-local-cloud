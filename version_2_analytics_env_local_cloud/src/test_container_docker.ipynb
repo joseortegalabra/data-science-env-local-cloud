{
 "cells": [
  {
   "cell_type": "markdown",
   "id": "44adf7ef-d9ba-4416-b5d3-5d2e790d9403",
   "metadata": {},
   "source": [
    "### Test if the container docker runs"
   ]
  },
  {
   "cell_type": "code",
   "execution_count": 1,
   "id": "43003808-5a71-42b2-9083-2354fa9e46f9",
   "metadata": {},
   "outputs": [],
   "source": [
    "import pandas as pd\n",
    "import numpy as np"
   ]
  },
  {
   "cell_type": "code",
   "execution_count": 2,
   "id": "e56fba33-dbdd-4db5-b1b3-780c6f18976e",
   "metadata": {},
   "outputs": [
    {
     "name": "stdout",
     "output_type": "stream",
     "text": [
      "hello world\n"
     ]
    }
   ],
   "source": [
    "print('hello world')"
   ]
  },
  {
   "cell_type": "code",
   "execution_count": null,
   "id": "f5f12ef8-c7fd-40ef-ad8b-82b722181612",
   "metadata": {},
   "outputs": [],
   "source": []
  }
 ],
 "metadata": {
  "kernelspec": {
   "display_name": "Python 3 (ipykernel)",
   "language": "python",
   "name": "python3"
  },
  "language_info": {
   "codemirror_mode": {
    "name": "ipython",
    "version": 3
   },
   "file_extension": ".py",
   "mimetype": "text/x-python",
   "name": "python",
   "nbconvert_exporter": "python",
   "pygments_lexer": "ipython3",
   "version": "3.10.14"
  }
 },
 "nbformat": 4,
 "nbformat_minor": 5
}
